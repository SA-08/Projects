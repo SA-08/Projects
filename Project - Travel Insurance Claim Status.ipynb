{
 "cells": [
  {
   "cell_type": "markdown",
   "metadata": {},
   "source": [
    "# 1. Introduction"
   ]
  },
  {
   "cell_type": "markdown",
   "metadata": {},
   "source": [
    "- SafeTravel Inc. is one of the world's largest insurance companies specializing in travel insurance. During travel, there are a lot of risk factors - loss of baggage, airline cancellations, health issues etc.\n",
    "- The potential customers are travellers who want to insure themselves against travel-related risks. They have different product offerings like 1-way travel insurance, 2-way insurance, insurance against cancellations and so on. They receive thousands of claims spread across different products\n",
    "- Wrongly denying a genuine claim could lead to lawsuits against the company and approving the wrong claim would lead to a loss. Automatically predicting the claims could lead to a lot of benefits and solve some other supplementary problems too. As a team of data scientists consulting for SafeTravel Inc, you are now responsible for meeting their business outcomes."
   ]
  },
  {
   "cell_type": "markdown",
   "metadata": {},
   "source": [
    "# 2. Problem Statement"
   ]
  },
  {
   "cell_type": "markdown",
   "metadata": {},
   "source": [
    "- Insurance companies take risks over customers. Risk management is a very important aspect of the insurance industry. Insurers consider every quantifiable factor to develop profiles of high and low insurance risks. Insurers collect vast amounts of information about policyholders and analyze the data.\n",
    "\n",
    "- As a Data scientist in an insurance company, you need to analyze the available data and predict whether to sanction the insurance or not."
   ]
  },
  {
   "cell_type": "code",
   "execution_count": 1,
   "metadata": {},
   "outputs": [],
   "source": [
    "# Import Libraries\n",
    "import pandas as pd\n",
    "import numpy as np\n",
    " \n",
    "# Importing Libraries for graphical representation\n",
    "import matplotlib.pyplot as plt\n",
    "import seaborn as sns"
   ]
  },
  {
   "cell_type": "code",
   "execution_count": 2,
   "metadata": {},
   "outputs": [
    {
     "data": {
      "text/html": [
       "<div>\n",
       "<style scoped>\n",
       "    .dataframe tbody tr th:only-of-type {\n",
       "        vertical-align: middle;\n",
       "    }\n",
       "\n",
       "    .dataframe tbody tr th {\n",
       "        vertical-align: top;\n",
       "    }\n",
       "\n",
       "    .dataframe thead th {\n",
       "        text-align: right;\n",
       "    }\n",
       "</style>\n",
       "<table border=\"1\" class=\"dataframe\">\n",
       "  <thead>\n",
       "    <tr style=\"text-align: right;\">\n",
       "      <th></th>\n",
       "      <th>ID</th>\n",
       "      <th>Age</th>\n",
       "      <th>Agency</th>\n",
       "      <th>Agency Type</th>\n",
       "      <th>Commision (in value)</th>\n",
       "      <th>Destination</th>\n",
       "      <th>Distribution Channel</th>\n",
       "      <th>Duration</th>\n",
       "      <th>Gender</th>\n",
       "      <th>Net Sales</th>\n",
       "      <th>Product Name</th>\n",
       "      <th>Claim</th>\n",
       "    </tr>\n",
       "  </thead>\n",
       "  <tbody>\n",
       "    <tr>\n",
       "      <th>0</th>\n",
       "      <td>45341</td>\n",
       "      <td>28</td>\n",
       "      <td>C2B</td>\n",
       "      <td>Airlines</td>\n",
       "      <td>28.13</td>\n",
       "      <td>SINGAPORE</td>\n",
       "      <td>Online</td>\n",
       "      <td>34</td>\n",
       "      <td>F</td>\n",
       "      <td>112.5</td>\n",
       "      <td>Silver Plan</td>\n",
       "      <td>1</td>\n",
       "    </tr>\n",
       "    <tr>\n",
       "      <th>1</th>\n",
       "      <td>12958</td>\n",
       "      <td>37</td>\n",
       "      <td>JZI</td>\n",
       "      <td>Airlines</td>\n",
       "      <td>12.95</td>\n",
       "      <td>PHILIPPINES</td>\n",
       "      <td>Online</td>\n",
       "      <td>53</td>\n",
       "      <td>F</td>\n",
       "      <td>37.0</td>\n",
       "      <td>Basic Plan</td>\n",
       "      <td>0</td>\n",
       "    </tr>\n",
       "    <tr>\n",
       "      <th>2</th>\n",
       "      <td>18233</td>\n",
       "      <td>27</td>\n",
       "      <td>EPX</td>\n",
       "      <td>Travel Agency</td>\n",
       "      <td>0.00</td>\n",
       "      <td>UNITED STATES</td>\n",
       "      <td>Online</td>\n",
       "      <td>28</td>\n",
       "      <td>NaN</td>\n",
       "      <td>13.0</td>\n",
       "      <td>Cancellation Plan</td>\n",
       "      <td>0</td>\n",
       "    </tr>\n",
       "    <tr>\n",
       "      <th>3</th>\n",
       "      <td>31742</td>\n",
       "      <td>36</td>\n",
       "      <td>EPX</td>\n",
       "      <td>Travel Agency</td>\n",
       "      <td>0.00</td>\n",
       "      <td>SAUDI ARABIA</td>\n",
       "      <td>Online</td>\n",
       "      <td>1</td>\n",
       "      <td>NaN</td>\n",
       "      <td>34.0</td>\n",
       "      <td>Cancellation Plan</td>\n",
       "      <td>0</td>\n",
       "    </tr>\n",
       "    <tr>\n",
       "      <th>4</th>\n",
       "      <td>14381</td>\n",
       "      <td>26</td>\n",
       "      <td>CWT</td>\n",
       "      <td>Travel Agency</td>\n",
       "      <td>23.76</td>\n",
       "      <td>THAILAND</td>\n",
       "      <td>Online</td>\n",
       "      <td>33</td>\n",
       "      <td>NaN</td>\n",
       "      <td>39.6</td>\n",
       "      <td>Rental Vehicle Excess Insurance</td>\n",
       "      <td>0</td>\n",
       "    </tr>\n",
       "  </tbody>\n",
       "</table>\n",
       "</div>"
      ],
      "text/plain": [
       "      ID  Age Agency    Agency Type  Commision (in value)    Destination  \\\n",
       "0  45341   28    C2B       Airlines                 28.13      SINGAPORE   \n",
       "1  12958   37    JZI       Airlines                 12.95    PHILIPPINES   \n",
       "2  18233   27    EPX  Travel Agency                  0.00  UNITED STATES   \n",
       "3  31742   36    EPX  Travel Agency                  0.00   SAUDI ARABIA   \n",
       "4  14381   26    CWT  Travel Agency                 23.76       THAILAND   \n",
       "\n",
       "  Distribution Channel  Duration Gender  Net Sales  \\\n",
       "0               Online        34      F      112.5   \n",
       "1               Online        53      F       37.0   \n",
       "2               Online        28    NaN       13.0   \n",
       "3               Online         1    NaN       34.0   \n",
       "4               Online        33    NaN       39.6   \n",
       "\n",
       "                      Product Name  Claim  \n",
       "0                      Silver Plan      1  \n",
       "1                       Basic Plan      0  \n",
       "2                Cancellation Plan      0  \n",
       "3                Cancellation Plan      0  \n",
       "4  Rental Vehicle Excess Insurance      0  "
      ]
     },
     "execution_count": 2,
     "metadata": {},
     "output_type": "execute_result"
    }
   ],
   "source": [
    "# Path where the CSV file is stored is the path of the location where the 'dataset is stored'\n",
    "travel = pd.read_csv(r'dataset.csv')\n",
    "travel.head(5)"
   ]
  },
  {
   "cell_type": "markdown",
   "metadata": {},
   "source": [
    "# 3. Basic Data Hygiene Check"
   ]
  },
  {
   "cell_type": "code",
   "execution_count": 3,
   "metadata": {},
   "outputs": [
    {
     "name": "stdout",
     "output_type": "stream",
     "text": [
      "<class 'pandas.core.frame.DataFrame'>\n",
      "RangeIndex: 62288 entries, 0 to 62287\n",
      "Data columns (total 12 columns):\n",
      " #   Column                Non-Null Count  Dtype  \n",
      "---  ------                --------------  -----  \n",
      " 0   ID                    62288 non-null  int64  \n",
      " 1   Age                   62288 non-null  int64  \n",
      " 2   Agency                62288 non-null  object \n",
      " 3   Agency Type           62288 non-null  object \n",
      " 4   Commision (in value)  62288 non-null  float64\n",
      " 5   Destination           62288 non-null  object \n",
      " 6   Distribution Channel  62288 non-null  object \n",
      " 7   Duration              62288 non-null  int64  \n",
      " 8   Gender                22713 non-null  object \n",
      " 9   Net Sales             62288 non-null  float64\n",
      " 10  Product Name          62288 non-null  object \n",
      " 11  Claim                 62288 non-null  int64  \n",
      "dtypes: float64(2), int64(4), object(6)\n",
      "memory usage: 5.7+ MB\n"
     ]
    }
   ],
   "source": [
    "# Checking the datatypes\n",
    "travel.info()"
   ]
  },
  {
   "cell_type": "markdown",
   "metadata": {},
   "source": [
    "### The dataset given consists of data corresponding to 62288 customers. Following are the features of the dataset.\n",
    "- Claim - Claim status and this is the target variable\n",
    "- Agency - Name of the agency\n",
    "- Agency Type - Type of the travel insurance agency\n",
    "- Distribution Channel - Distribution channel of the travel insurance agency\n",
    "- Product Name - Name of the travel insurance product\n",
    "- Duration - Duration of the travel\n",
    "- Destination - Destination of the travel\n",
    "- Net Sales - Amount of total sales of travel of the insurance policy\n",
    "- Commision (in value) - The commision received by the travel insurance agent\n",
    "- Gender - Gender of the insured person\n",
    "- Age - Age of the insured person"
   ]
  },
  {
   "cell_type": "code",
   "execution_count": 4,
   "metadata": {
    "scrolled": true
   },
   "outputs": [
    {
     "data": {
      "text/plain": [
       "Claim\n",
       "0    0.8\n",
       "1    0.2\n",
       "dtype: float64"
      ]
     },
     "execution_count": 4,
     "metadata": {},
     "output_type": "execute_result"
    }
   ],
   "source": [
    "# Checking the distribution of the claims \n",
    "(travel.groupby('Claim').size()/travel.shape[0]).round(4)"
   ]
  },
  {
   "cell_type": "code",
   "execution_count": 5,
   "metadata": {},
   "outputs": [
    {
     "data": {
      "image/png": "[encoded data removed]",
      "text/plain": [
       "<Figure size 432x288 with 1 Axes>"
      ]
     },
     "metadata": {
      "needs_background": "light"
     },
     "output_type": "display_data"
    }
   ],
   "source": [
    "plt.bar(travel['Claim'].unique(), travel['Claim'].value_counts(), color = ['red', 'green'])\n",
    "plt.xticks([0, 1])\n",
    "plt.xlabel('Target Classes')\n",
    "plt.ylabel('Count')\n",
    "plt.title('Count of each Target Class');"
   ]
  },
  {
   "cell_type": "code",
   "execution_count": 6,
   "metadata": {},
   "outputs": [
    {
     "data": {
      "text/plain": [
       "(62288, 12)"
      ]
     },
     "execution_count": 6,
     "metadata": {},
     "output_type": "execute_result"
    }
   ],
   "source": [
    "# travel dataset has 62288 customer records and 12 features including the claim\n",
    "travel.shape"
   ]
  },
  {
   "cell_type": "code",
   "execution_count": 7,
   "metadata": {},
   "outputs": [
    {
     "data": {
      "text/html": [
       "<div>\n",
       "<style scoped>\n",
       "    .dataframe tbody tr th:only-of-type {\n",
       "        vertical-align: middle;\n",
       "    }\n",
       "\n",
       "    .dataframe tbody tr th {\n",
       "        vertical-align: top;\n",
       "    }\n",
       "\n",
       "    .dataframe thead th {\n",
       "        text-align: right;\n",
       "    }\n",
       "</style>\n",
       "<table border=\"1\" class=\"dataframe\">\n",
       "  <thead>\n",
       "    <tr style=\"text-align: right;\">\n",
       "      <th></th>\n",
       "      <th>ID</th>\n",
       "      <th>Age</th>\n",
       "      <th>Commision (in value)</th>\n",
       "      <th>Duration</th>\n",
       "      <th>Net Sales</th>\n",
       "      <th>Claim</th>\n",
       "    </tr>\n",
       "  </thead>\n",
       "  <tbody>\n",
       "    <tr>\n",
       "      <th>count</th>\n",
       "      <td>62288.000000</td>\n",
       "      <td>62288.000000</td>\n",
       "      <td>62288.000000</td>\n",
       "      <td>62288.000000</td>\n",
       "      <td>62288.000000</td>\n",
       "      <td>62288.000000</td>\n",
       "    </tr>\n",
       "    <tr>\n",
       "      <th>mean</th>\n",
       "      <td>32844.953458</td>\n",
       "      <td>39.666324</td>\n",
       "      <td>12.829703</td>\n",
       "      <td>60.958804</td>\n",
       "      <td>50.717064</td>\n",
       "      <td>0.200006</td>\n",
       "    </tr>\n",
       "    <tr>\n",
       "      <th>std</th>\n",
       "      <td>18065.417216</td>\n",
       "      <td>14.014652</td>\n",
       "      <td>23.498745</td>\n",
       "      <td>114.325330</td>\n",
       "      <td>63.166715</td>\n",
       "      <td>0.400008</td>\n",
       "    </tr>\n",
       "    <tr>\n",
       "      <th>min</th>\n",
       "      <td>0.000000</td>\n",
       "      <td>0.000000</td>\n",
       "      <td>0.000000</td>\n",
       "      <td>-2.000000</td>\n",
       "      <td>-389.000000</td>\n",
       "      <td>0.000000</td>\n",
       "    </tr>\n",
       "    <tr>\n",
       "      <th>25%</th>\n",
       "      <td>17579.000000</td>\n",
       "      <td>33.000000</td>\n",
       "      <td>0.000000</td>\n",
       "      <td>10.000000</td>\n",
       "      <td>20.000000</td>\n",
       "      <td>0.000000</td>\n",
       "    </tr>\n",
       "    <tr>\n",
       "      <th>50%</th>\n",
       "      <td>33446.500000</td>\n",
       "      <td>36.000000</td>\n",
       "      <td>1.880000</td>\n",
       "      <td>25.000000</td>\n",
       "      <td>29.700000</td>\n",
       "      <td>0.000000</td>\n",
       "    </tr>\n",
       "    <tr>\n",
       "      <th>75%</th>\n",
       "      <td>48532.250000</td>\n",
       "      <td>43.000000</td>\n",
       "      <td>14.440000</td>\n",
       "      <td>59.000000</td>\n",
       "      <td>58.000000</td>\n",
       "      <td>0.000000</td>\n",
       "    </tr>\n",
       "    <tr>\n",
       "      <th>max</th>\n",
       "      <td>63323.000000</td>\n",
       "      <td>118.000000</td>\n",
       "      <td>262.760000</td>\n",
       "      <td>4881.000000</td>\n",
       "      <td>682.000000</td>\n",
       "      <td>1.000000</td>\n",
       "    </tr>\n",
       "  </tbody>\n",
       "</table>\n",
       "</div>"
      ],
      "text/plain": [
       "                 ID           Age  Commision (in value)      Duration  \\\n",
       "count  62288.000000  62288.000000          62288.000000  62288.000000   \n",
       "mean   32844.953458     39.666324             12.829703     60.958804   \n",
       "std    18065.417216     14.014652             23.498745    114.325330   \n",
       "min        0.000000      0.000000              0.000000     -2.000000   \n",
       "25%    17579.000000     33.000000              0.000000     10.000000   \n",
       "50%    33446.500000     36.000000              1.880000     25.000000   \n",
       "75%    48532.250000     43.000000             14.440000     59.000000   \n",
       "max    63323.000000    118.000000            262.760000   4881.000000   \n",
       "\n",
       "          Net Sales         Claim  \n",
       "count  62288.000000  62288.000000  \n",
       "mean      50.717064      0.200006  \n",
       "std       63.166715      0.400008  \n",
       "min     -389.000000      0.000000  \n",
       "25%       20.000000      0.000000  \n",
       "50%       29.700000      0.000000  \n",
       "75%       58.000000      0.000000  \n",
       "max      682.000000      1.000000  "
      ]
     },
     "execution_count": 7,
     "metadata": {},
     "output_type": "execute_result"
    }
   ],
   "source": [
    "travel.describe()"
   ]
  },
  {
   "cell_type": "code",
   "execution_count": 8,
   "metadata": {},
   "outputs": [
    {
     "data": {
      "text/plain": [
       "ID                          0\n",
       "Age                         0\n",
       "Agency                      0\n",
       "Agency Type                 0\n",
       "Commision (in value)        0\n",
       "Destination                 0\n",
       "Distribution Channel        0\n",
       "Duration                    0\n",
       "Gender                  39575\n",
       "Net Sales                   0\n",
       "Product Name                0\n",
       "Claim                       0\n",
       "dtype: int64"
      ]
     },
     "execution_count": 8,
     "metadata": {},
     "output_type": "execute_result"
    }
   ],
   "source": [
    "# Checking for the null values\n",
    "travel.isnull().sum()"
   ]
  },
  {
   "cell_type": "code",
   "execution_count": 9,
   "metadata": {},
   "outputs": [
    {
     "data": {
      "text/plain": [
       "63.54"
      ]
     },
     "execution_count": 9,
     "metadata": {},
     "output_type": "execute_result"
    }
   ],
   "source": [
    "# Checking the weightage of null values\n",
    "((travel['Gender'].isnull().sum()/travel.shape[0])*100).round(2)"
   ]
  },
  {
   "cell_type": "markdown",
   "metadata": {},
   "source": [
    "- From the above its clear that more then 60% of the data does not have Gender updated. And we also understand that there are no other features that will help us find out whether the individual is male or female. Thus we will drop this feature."
   ]
  },
  {
   "cell_type": "markdown",
   "metadata": {},
   "source": [
    "# 4. Analysis"
   ]
  },
  {
   "cell_type": "markdown",
   "metadata": {},
   "source": [
    "- From the above we can say that Agency Type and Distribution Channel which has just 2 unique values and has dataype object we can use One Hot Encoding and convert them.\n",
    "\n",
    "- We will be left with Destination, Agency and Product Name. We will deep dive into this after some analysis of the rest of the data"
   ]
  },
  {
   "cell_type": "code",
   "execution_count": 10,
   "metadata": {},
   "outputs": [
    {
     "data": {
      "text/html": [
       "<div>\n",
       "<style scoped>\n",
       "    .dataframe tbody tr th:only-of-type {\n",
       "        vertical-align: middle;\n",
       "    }\n",
       "\n",
       "    .dataframe tbody tr th {\n",
       "        vertical-align: top;\n",
       "    }\n",
       "\n",
       "    .dataframe thead th {\n",
       "        text-align: right;\n",
       "    }\n",
       "</style>\n",
       "<table border=\"1\" class=\"dataframe\">\n",
       "  <thead>\n",
       "    <tr style=\"text-align: right;\">\n",
       "      <th></th>\n",
       "      <th>ID</th>\n",
       "      <th>Age</th>\n",
       "      <th>Commision (in value)</th>\n",
       "      <th>Duration</th>\n",
       "      <th>Net Sales</th>\n",
       "      <th>Claim</th>\n",
       "    </tr>\n",
       "  </thead>\n",
       "  <tbody>\n",
       "    <tr>\n",
       "      <th>count</th>\n",
       "      <td>62288.000000</td>\n",
       "      <td>62288.000000</td>\n",
       "      <td>62288.000000</td>\n",
       "      <td>62288.000000</td>\n",
       "      <td>62288.000000</td>\n",
       "      <td>62288.000000</td>\n",
       "    </tr>\n",
       "    <tr>\n",
       "      <th>mean</th>\n",
       "      <td>32844.953458</td>\n",
       "      <td>39.666324</td>\n",
       "      <td>12.829703</td>\n",
       "      <td>60.958804</td>\n",
       "      <td>50.717064</td>\n",
       "      <td>0.200006</td>\n",
       "    </tr>\n",
       "    <tr>\n",
       "      <th>std</th>\n",
       "      <td>18065.417216</td>\n",
       "      <td>14.014652</td>\n",
       "      <td>23.498745</td>\n",
       "      <td>114.325330</td>\n",
       "      <td>63.166715</td>\n",
       "      <td>0.400008</td>\n",
       "    </tr>\n",
       "    <tr>\n",
       "      <th>min</th>\n",
       "      <td>0.000000</td>\n",
       "      <td>0.000000</td>\n",
       "      <td>0.000000</td>\n",
       "      <td>-2.000000</td>\n",
       "      <td>-389.000000</td>\n",
       "      <td>0.000000</td>\n",
       "    </tr>\n",
       "    <tr>\n",
       "      <th>25%</th>\n",
       "      <td>17579.000000</td>\n",
       "      <td>33.000000</td>\n",
       "      <td>0.000000</td>\n",
       "      <td>10.000000</td>\n",
       "      <td>20.000000</td>\n",
       "      <td>0.000000</td>\n",
       "    </tr>\n",
       "    <tr>\n",
       "      <th>50%</th>\n",
       "      <td>33446.500000</td>\n",
       "      <td>36.000000</td>\n",
       "      <td>1.880000</td>\n",
       "      <td>25.000000</td>\n",
       "      <td>29.700000</td>\n",
       "      <td>0.000000</td>\n",
       "    </tr>\n",
       "    <tr>\n",
       "      <th>75%</th>\n",
       "      <td>48532.250000</td>\n",
       "      <td>43.000000</td>\n",
       "      <td>14.440000</td>\n",
       "      <td>59.000000</td>\n",
       "      <td>58.000000</td>\n",
       "      <td>0.000000</td>\n",
       "    </tr>\n",
       "    <tr>\n",
       "      <th>max</th>\n",
       "      <td>63323.000000</td>\n",
       "      <td>118.000000</td>\n",
       "      <td>262.760000</td>\n",
       "      <td>4881.000000</td>\n",
       "      <td>682.000000</td>\n",
       "      <td>1.000000</td>\n",
       "    </tr>\n",
       "  </tbody>\n",
       "</table>\n",
       "</div>"
      ],
      "text/plain": [
       "                 ID           Age  Commision (in value)      Duration  \\\n",
       "count  62288.000000  62288.000000          62288.000000  62288.000000   \n",
       "mean   32844.953458     39.666324             12.829703     60.958804   \n",
       "std    18065.417216     14.014652             23.498745    114.325330   \n",
       "min        0.000000      0.000000              0.000000     -2.000000   \n",
       "25%    17579.000000     33.000000              0.000000     10.000000   \n",
       "50%    33446.500000     36.000000              1.880000     25.000000   \n",
       "75%    48532.250000     43.000000             14.440000     59.000000   \n",
       "max    63323.000000    118.000000            262.760000   4881.000000   \n",
       "\n",
       "          Net Sales         Claim  \n",
       "count  62288.000000  62288.000000  \n",
       "mean      50.717064      0.200006  \n",
       "std       63.166715      0.400008  \n",
       "min     -389.000000      0.000000  \n",
       "25%       20.000000      0.000000  \n",
       "50%       29.700000      0.000000  \n",
       "75%       58.000000      0.000000  \n",
       "max      682.000000      1.000000  "
      ]
     },
     "execution_count": 10,
     "metadata": {},
     "output_type": "execute_result"
    }
   ],
   "source": [
    "# Check for the maximum and minimum values to see if there are any invalid.\n",
    "travel.describe()"
   ]
  },
  {
   "cell_type": "markdown",
   "metadata": {},
   "source": [
    "## 1. Age:\n",
    "    - minimum: 0 which is possible.\n",
    "    - maximum: 118, Way too old to travel.\n",
    "   \n",
    "Lets check what insurance companies say.\n",
    "    \n",
    "Insurance Companies do not give insurance over an age of 85. However there are few who provide insurance upto age of 99.\n",
    "So giving benefit of doubt to our Safe Travel Insurance travel company we will assume that any individual upto age 99 is valid anything above that needs to be treated.\n",
    "\n",
    "## 2. Commission: \n",
    "    - The data for commission looks valid.\n",
    "\n",
    "## 3. Duration:\n",
    "    - minimum: -2 \n",
    "    - maximum: 4881\n",
    "    \n",
    "so now lets see what insurance companies say.\n",
    "    - Duration can never be -ve. so this definately has to be computed.\n",
    "    - Duration of 4881. \n",
    "\n",
    "Insurance companies do not give insurance over 120 days in India. Lets assume that there is an Annual plan in place then we can say that the maximum tenure of a insurance plan would be 365 days. Also given a fact that one can book a ticket 1 year in advance so we will say that the maximum duration of the insurance cannot be more than \n",
    "    - 731 days(365 + 366 days considering if it is a leap year)\n",
    "\n",
    "Incase the proportion is less then 0.05 we will go ahead and drop the data points else we will have to treat them.\n",
    "\n",
    "\n",
    "## 4. Net Sales:\n",
    "    - Minimum has negative values. To check whether sales can be negative or not\n",
    "\n",
    "lets understand how Net Sales is computed.\n",
    "\n",
    "Net Sales = (The Value for which the insurance is sold) - (Any expenses incurred or Claim Amount paid)\n",
    "\n",
    "So it is possible that the Sales is showing negative if the Claim amount is paid, it can also be negative even if the claim ammount is not paid incases where the insurance was sent for claim and got rejected. Now the expenses incurred for doing investigation of that claim would be more than the actual policy amount paid."
   ]
  },
  {
   "cell_type": "code",
   "execution_count": 11,
   "metadata": {},
   "outputs": [
    {
     "data": {
      "text/plain": [
       "0.006421782686873876"
      ]
     },
     "execution_count": 11,
     "metadata": {},
     "output_type": "execute_result"
    }
   ],
   "source": [
    "# Calculate % of negative Duration Travels\n",
    "(travel['Duration'] < 0).sum()/travel.shape[0]*100"
   ]
  },
  {
   "cell_type": "code",
   "execution_count": 12,
   "metadata": {},
   "outputs": [
    {
     "data": {
      "text/plain": [
       "0.020870793732340097"
      ]
     },
     "execution_count": 12,
     "metadata": {},
     "output_type": "execute_result"
    }
   ],
   "source": [
    "# Calculate % of Duration beyond 731 days\n",
    "(travel['Duration'] > 731).sum()/travel.shape[0]*100"
   ]
  },
  {
   "cell_type": "code",
   "execution_count": 13,
   "metadata": {},
   "outputs": [
    {
     "data": {
      "text/plain": [
       "1.4497174415617775"
      ]
     },
     "execution_count": 13,
     "metadata": {},
     "output_type": "execute_result"
    }
   ],
   "source": [
    "# Now check the weightage of Age\n",
    "(travel['Age'] > 99).sum()/travel.shape[0]*100"
   ]
  },
  {
   "cell_type": "markdown",
   "metadata": {},
   "source": [
    "- Since the weightage is more than 0.05 we will not be deleting these data.\n",
    "- We will replace the values that are greater than 99 with the mean of Senior Age"
   ]
  },
  {
   "cell_type": "code",
   "execution_count": 14,
   "metadata": {},
   "outputs": [],
   "source": [
    "# Define the function to make age groups as children, adults, and senior\n",
    "def age_convert(age):\n",
    "    if age <= 21:\n",
    "        result = 'Child'\n",
    "    elif age <= 50:\n",
    "        result = 'Adult'\n",
    "    else:\n",
    "        result = 'Senior'\n",
    "    return result"
   ]
  },
  {
   "cell_type": "code",
   "execution_count": 15,
   "metadata": {},
   "outputs": [],
   "source": [
    "# Write the function for data preprocessing\n",
    "def data_pre_processing(df):\n",
    "    # Add a new column in the database as Age Group\n",
    "    df['Age Group'] = df['Age'].map(lambda x: age_convert(x))\n",
    "    \n",
    "    # Droppig feature Gender\n",
    "    df.drop('Gender', axis = 1, inplace = True)\n",
    "    \n",
    "    # Since the minimum duration that any individual can have is 1 day thus we impute it by the column median\n",
    "    df['Duration'][df['Duration'] < 0] = df['Duration'].median()\n",
    "    \n",
    "    # As we observed duration of any travel cannot be more 731 we will impute it as 731\n",
    "    df['Duration'][df['Duration'] > 731] = 731\n",
    "    \n",
    "    # Replacing the values that is greater than 99 with the mean of Senior Age\n",
    "    df['Age'][df['Age'] > 99] = df[df['Age Group'] == 'Senior']['Age'].mean()"
   ]
  },
  {
   "cell_type": "code",
   "execution_count": 16,
   "metadata": {},
   "outputs": [
    {
     "name": "stderr",
     "output_type": "stream",
     "text": [
      "<ipython-input-15-db42d19ecc63>:10: SettingWithCopyWarning: \n",
      "A value is trying to be set on a copy of a slice from a DataFrame\n",
      "\n",
      "See the caveats in the documentation: https://pandas.pydata.org/pandas-docs/stable/user_guide/indexing.html#returning-a-view-versus-a-copy\n",
      "  df['Duration'][df['Duration'] < 0] = df['Duration'].median()\n",
      "<ipython-input-15-db42d19ecc63>:13: SettingWithCopyWarning: \n",
      "A value is trying to be set on a copy of a slice from a DataFrame\n",
      "\n",
      "See the caveats in the documentation: https://pandas.pydata.org/pandas-docs/stable/user_guide/indexing.html#returning-a-view-versus-a-copy\n",
      "  df['Duration'][df['Duration'] > 731] = 731\n",
      "<ipython-input-15-db42d19ecc63>:16: SettingWithCopyWarning: \n",
      "A value is trying to be set on a copy of a slice from a DataFrame\n",
      "\n",
      "See the caveats in the documentation: https://pandas.pydata.org/pandas-docs/stable/user_guide/indexing.html#returning-a-view-versus-a-copy\n",
      "  df['Age'][df['Age'] > 99] = df[df['Age Group'] == 'Senior']['Age'].mean()\n"
     ]
    }
   ],
   "source": [
    "data_pre_processing(travel)"
   ]
  },
  {
   "cell_type": "code",
   "execution_count": 17,
   "metadata": {},
   "outputs": [
    {
     "data": {
      "text/html": [
       "<div>\n",
       "<style scoped>\n",
       "    .dataframe tbody tr th:only-of-type {\n",
       "        vertical-align: middle;\n",
       "    }\n",
       "\n",
       "    .dataframe tbody tr th {\n",
       "        vertical-align: top;\n",
       "    }\n",
       "\n",
       "    .dataframe thead th {\n",
       "        text-align: right;\n",
       "    }\n",
       "</style>\n",
       "<table border=\"1\" class=\"dataframe\">\n",
       "  <thead>\n",
       "    <tr style=\"text-align: right;\">\n",
       "      <th></th>\n",
       "      <th>ID</th>\n",
       "      <th>Age</th>\n",
       "      <th>Commision (in value)</th>\n",
       "      <th>Duration</th>\n",
       "      <th>Net Sales</th>\n",
       "      <th>Claim</th>\n",
       "    </tr>\n",
       "  </thead>\n",
       "  <tbody>\n",
       "    <tr>\n",
       "      <th>count</th>\n",
       "      <td>62288.000000</td>\n",
       "      <td>62288.000000</td>\n",
       "      <td>62288.000000</td>\n",
       "      <td>62288.000000</td>\n",
       "      <td>62288.000000</td>\n",
       "      <td>62288.000000</td>\n",
       "    </tr>\n",
       "    <tr>\n",
       "      <th>mean</th>\n",
       "      <td>32844.953458</td>\n",
       "      <td>38.904537</td>\n",
       "      <td>12.829703</td>\n",
       "      <td>60.182748</td>\n",
       "      <td>50.717064</td>\n",
       "      <td>0.200006</td>\n",
       "    </tr>\n",
       "    <tr>\n",
       "      <th>std</th>\n",
       "      <td>18065.417216</td>\n",
       "      <td>10.794050</td>\n",
       "      <td>23.498745</td>\n",
       "      <td>94.270276</td>\n",
       "      <td>63.166715</td>\n",
       "      <td>0.400008</td>\n",
       "    </tr>\n",
       "    <tr>\n",
       "      <th>min</th>\n",
       "      <td>0.000000</td>\n",
       "      <td>0.000000</td>\n",
       "      <td>0.000000</td>\n",
       "      <td>0.000000</td>\n",
       "      <td>-389.000000</td>\n",
       "      <td>0.000000</td>\n",
       "    </tr>\n",
       "    <tr>\n",
       "      <th>25%</th>\n",
       "      <td>17579.000000</td>\n",
       "      <td>33.000000</td>\n",
       "      <td>0.000000</td>\n",
       "      <td>10.000000</td>\n",
       "      <td>20.000000</td>\n",
       "      <td>0.000000</td>\n",
       "    </tr>\n",
       "    <tr>\n",
       "      <th>50%</th>\n",
       "      <td>33446.500000</td>\n",
       "      <td>36.000000</td>\n",
       "      <td>1.880000</td>\n",
       "      <td>25.000000</td>\n",
       "      <td>29.700000</td>\n",
       "      <td>0.000000</td>\n",
       "    </tr>\n",
       "    <tr>\n",
       "      <th>75%</th>\n",
       "      <td>48532.250000</td>\n",
       "      <td>43.000000</td>\n",
       "      <td>14.440000</td>\n",
       "      <td>59.000000</td>\n",
       "      <td>58.000000</td>\n",
       "      <td>0.000000</td>\n",
       "    </tr>\n",
       "    <tr>\n",
       "      <th>max</th>\n",
       "      <td>63323.000000</td>\n",
       "      <td>88.000000</td>\n",
       "      <td>262.760000</td>\n",
       "      <td>731.000000</td>\n",
       "      <td>682.000000</td>\n",
       "      <td>1.000000</td>\n",
       "    </tr>\n",
       "  </tbody>\n",
       "</table>\n",
       "</div>"
      ],
      "text/plain": [
       "                 ID           Age  Commision (in value)      Duration  \\\n",
       "count  62288.000000  62288.000000          62288.000000  62288.000000   \n",
       "mean   32844.953458     38.904537             12.829703     60.182748   \n",
       "std    18065.417216     10.794050             23.498745     94.270276   \n",
       "min        0.000000      0.000000              0.000000      0.000000   \n",
       "25%    17579.000000     33.000000              0.000000     10.000000   \n",
       "50%    33446.500000     36.000000              1.880000     25.000000   \n",
       "75%    48532.250000     43.000000             14.440000     59.000000   \n",
       "max    63323.000000     88.000000            262.760000    731.000000   \n",
       "\n",
       "          Net Sales         Claim  \n",
       "count  62288.000000  62288.000000  \n",
       "mean      50.717064      0.200006  \n",
       "std       63.166715      0.400008  \n",
       "min     -389.000000      0.000000  \n",
       "25%       20.000000      0.000000  \n",
       "50%       29.700000      0.000000  \n",
       "75%       58.000000      0.000000  \n",
       "max      682.000000      1.000000  "
      ]
     },
     "execution_count": 17,
     "metadata": {},
     "output_type": "execute_result"
    }
   ],
   "source": [
    "travel.describe()"
   ]
  },
  {
   "cell_type": "code",
   "execution_count": 18,
   "metadata": {},
   "outputs": [],
   "source": [
    "# Creating a dataframe dropping the features with datatype object\n",
    "travel_plot = travel.drop(['ID','Agency'\n",
    "                           ,'Agency Type','Destination'\n",
    "                           ,'Distribution Channel','Product Name'\n",
    "                           ,'Claim'], axis = 1)"
   ]
  },
  {
   "cell_type": "code",
   "execution_count": 19,
   "metadata": {},
   "outputs": [
    {
     "data": {
      "image/png": "[encoded data removed]",
      "text/plain": [
       "<Figure size 1440x1440 with 8 Axes>"
      ]
     },
     "metadata": {
      "needs_background": "light"
     },
     "output_type": "display_data"
    }
   ],
   "source": [
    "# box and whisker plots\n",
    "travel_plot.plot(kind='box', subplots=True, layout=(2,4), sharex=False, sharey=False, figsize=(20,20),color='blue')\n",
    "plt.show()"
   ]
  },
  {
   "cell_type": "code",
   "execution_count": 20,
   "metadata": {},
   "outputs": [
    {
     "data": {
      "image/png": "[encoded data removed]",
      "text/plain": [
       "<Figure size 1440x360 with 4 Axes>"
      ]
     },
     "metadata": {
      "needs_background": "light"
     },
     "output_type": "display_data"
    }
   ],
   "source": [
    "travel_plot.hist(grid=False,sharex=False,sharey=False,figsize=(20,5),layout=(1,4))\n",
    "plt.show()"
   ]
  },
  {
   "cell_type": "markdown",
   "metadata": {},
   "source": [
    "- We would not be correcting the skewness as the data is valid"
   ]
  },
  {
   "cell_type": "code",
   "execution_count": 21,
   "metadata": {},
   "outputs": [
    {
     "data": {
      "text/plain": [
       "Agency\n",
       "C2B    0.544827\n",
       "LWC    0.467347\n",
       "TTW    0.376923\n",
       "KML    0.301124\n",
       "CCR    0.222749\n",
       "CSR    0.173333\n",
       "CWT    0.145802\n",
       "CBH    0.141414\n",
       "SSI    0.104813\n",
       "EPX    0.084498\n",
       "Name: Claim, dtype: float64"
      ]
     },
     "execution_count": 21,
     "metadata": {},
     "output_type": "execute_result"
    }
   ],
   "source": [
    "# Finding the Agencies with the Maximum Claims\n",
    "claim_mean = (travel.groupby(['Agency'])['Claim'].mean()).nlargest(10)\n",
    "claim_mean"
   ]
  },
  {
   "cell_type": "code",
   "execution_count": 22,
   "metadata": {},
   "outputs": [
    {
     "data": {
      "image/png": "[encoded data removed]",
      "text/plain": [
       "<Figure size 432x288 with 1 Axes>"
      ]
     },
     "metadata": {
      "needs_background": "light"
     },
     "output_type": "display_data"
    }
   ],
   "source": [
    "ax = claim_mean.plot.bar(x='Agency', y='Claim', rot=0)"
   ]
  },
  {
   "cell_type": "code",
   "execution_count": 23,
   "metadata": {},
   "outputs": [
    {
     "data": {
      "text/plain": [
       "Agency\n",
       "LWC    126.991327\n",
       "C2B     98.088149\n",
       "TTW     93.300000\n",
       "ADM     56.184615\n",
       "JWT     54.912363\n",
       "KML     52.424719\n",
       "CWT     47.191742\n",
       "EPX     33.668716\n",
       "JZI     32.747784\n",
       "CSR     31.706667\n",
       "Name: Net Sales, dtype: float64"
      ]
     },
     "execution_count": 23,
     "metadata": {},
     "output_type": "execute_result"
    }
   ],
   "source": [
    "# Finding the Agencies with most number of net sales\n",
    "netsales_mean = (travel.groupby(['Agency'])['Net Sales'].mean()).nlargest(10)\n",
    "netsales_mean"
   ]
  },
  {
   "cell_type": "code",
   "execution_count": 24,
   "metadata": {},
   "outputs": [
    {
     "data": {
      "image/png": "[encoded data removed]",
      "text/plain": [
       "<Figure size 432x288 with 1 Axes>"
      ]
     },
     "metadata": {
      "needs_background": "light"
     },
     "output_type": "display_data"
    }
   ],
   "source": [
    "ax1 = netsales_mean.plot.bar(x='Agency', y='Net Sales', rot=0)"
   ]
  },
  {
   "cell_type": "code",
   "execution_count": 25,
   "metadata": {},
   "outputs": [
    {
     "data": {
      "text/html": [
       "<div>\n",
       "<style scoped>\n",
       "    .dataframe tbody tr th:only-of-type {\n",
       "        vertical-align: middle;\n",
       "    }\n",
       "\n",
       "    .dataframe tbody tr th {\n",
       "        vertical-align: top;\n",
       "    }\n",
       "\n",
       "    .dataframe thead tr th {\n",
       "        text-align: left;\n",
       "    }\n",
       "\n",
       "    .dataframe thead tr:last-of-type th {\n",
       "        text-align: right;\n",
       "    }\n",
       "</style>\n",
       "<table border=\"1\" class=\"dataframe\">\n",
       "  <thead>\n",
       "    <tr>\n",
       "      <th></th>\n",
       "      <th colspan=\"2\" halign=\"left\">Agency</th>\n",
       "    </tr>\n",
       "    <tr>\n",
       "      <th>Claim</th>\n",
       "      <th>0</th>\n",
       "      <th>1</th>\n",
       "    </tr>\n",
       "    <tr>\n",
       "      <th>Agency Type</th>\n",
       "      <th></th>\n",
       "      <th></th>\n",
       "    </tr>\n",
       "  </thead>\n",
       "  <tbody>\n",
       "    <tr>\n",
       "      <th>Airlines</th>\n",
       "      <td>13481</td>\n",
       "      <td>7991</td>\n",
       "    </tr>\n",
       "    <tr>\n",
       "      <th>Travel Agency</th>\n",
       "      <td>36349</td>\n",
       "      <td>4467</td>\n",
       "    </tr>\n",
       "  </tbody>\n",
       "</table>\n",
       "</div>"
      ],
      "text/plain": [
       "              Agency      \n",
       "Claim              0     1\n",
       "Agency Type               \n",
       "Airlines       13481  7991\n",
       "Travel Agency  36349  4467"
      ]
     },
     "execution_count": 25,
     "metadata": {},
     "output_type": "execute_result"
    }
   ],
   "source": [
    "travel.pivot_table(index=['Agency Type'],columns=['Claim'], values=['Agency'], aggfunc='count')"
   ]
  },
  {
   "cell_type": "code",
   "execution_count": 26,
   "metadata": {},
   "outputs": [
    {
     "data": {
      "image/png": "[encoded data removed]",
      "text/plain": [
       "<Figure size 403.2x288 with 2 Axes>"
      ]
     },
     "metadata": {
      "needs_background": "light"
     },
     "output_type": "display_data"
    }
   ],
   "source": [
    "plot2 = sns.catplot(x=\"Agency Type\", col=\"Claim\",data=travel, kind=\"count\",height=4, aspect=.7)"
   ]
  },
  {
   "cell_type": "code",
   "execution_count": 27,
   "metadata": {},
   "outputs": [
    {
     "data": {
      "text/html": [
       "<div>\n",
       "<style scoped>\n",
       "    .dataframe tbody tr th:only-of-type {\n",
       "        vertical-align: middle;\n",
       "    }\n",
       "\n",
       "    .dataframe tbody tr th {\n",
       "        vertical-align: top;\n",
       "    }\n",
       "\n",
       "    .dataframe thead th {\n",
       "        text-align: right;\n",
       "    }\n",
       "</style>\n",
       "<table border=\"1\" class=\"dataframe\">\n",
       "  <thead>\n",
       "    <tr style=\"text-align: right;\">\n",
       "      <th></th>\n",
       "      <th>Net Sales</th>\n",
       "    </tr>\n",
       "    <tr>\n",
       "      <th>Product Name</th>\n",
       "      <th></th>\n",
       "    </tr>\n",
       "  </thead>\n",
       "  <tbody>\n",
       "    <tr>\n",
       "      <th>1 way Comprehensive Plan</th>\n",
       "      <td>78320.00</td>\n",
       "    </tr>\n",
       "    <tr>\n",
       "      <th>2 way Comprehensive Plan</th>\n",
       "      <td>540984.00</td>\n",
       "    </tr>\n",
       "    <tr>\n",
       "      <th>24 Protect</th>\n",
       "      <td>4048.45</td>\n",
       "    </tr>\n",
       "    <tr>\n",
       "      <th>Annual Gold Plan</th>\n",
       "      <td>144824.70</td>\n",
       "    </tr>\n",
       "    <tr>\n",
       "      <th>Annual Silver Plan</th>\n",
       "      <td>720709.98</td>\n",
       "    </tr>\n",
       "    <tr>\n",
       "      <th>Annual Travel Protect Gold</th>\n",
       "      <td>49757.30</td>\n",
       "    </tr>\n",
       "    <tr>\n",
       "      <th>Annual Travel Protect Platinum</th>\n",
       "      <td>24943.40</td>\n",
       "    </tr>\n",
       "    <tr>\n",
       "      <th>Annual Travel Protect Silver</th>\n",
       "      <td>26372.45</td>\n",
       "    </tr>\n",
       "    <tr>\n",
       "      <th>Basic Plan</th>\n",
       "      <td>123388.00</td>\n",
       "    </tr>\n",
       "    <tr>\n",
       "      <th>Bronze Plan</th>\n",
       "      <td>212859.60</td>\n",
       "    </tr>\n",
       "    <tr>\n",
       "      <th>Cancellation Plan</th>\n",
       "      <td>404730.00</td>\n",
       "    </tr>\n",
       "    <tr>\n",
       "      <th>Child Comprehensive Plan</th>\n",
       "      <td>592.00</td>\n",
       "    </tr>\n",
       "    <tr>\n",
       "      <th>Comprehensive Plan</th>\n",
       "      <td>10598.00</td>\n",
       "    </tr>\n",
       "    <tr>\n",
       "      <th>Gold Plan</th>\n",
       "      <td>41534.30</td>\n",
       "    </tr>\n",
       "    <tr>\n",
       "      <th>Individual Comprehensive Plan</th>\n",
       "      <td>9215.00</td>\n",
       "    </tr>\n",
       "    <tr>\n",
       "      <th>Premier Plan</th>\n",
       "      <td>12437.00</td>\n",
       "    </tr>\n",
       "    <tr>\n",
       "      <th>Rental Vehicle Excess Insurance</th>\n",
       "      <td>375457.50</td>\n",
       "    </tr>\n",
       "    <tr>\n",
       "      <th>Silver Plan</th>\n",
       "      <td>214854.95</td>\n",
       "    </tr>\n",
       "    <tr>\n",
       "      <th>Single Trip Travel Protect Gold</th>\n",
       "      <td>11857.20</td>\n",
       "    </tr>\n",
       "    <tr>\n",
       "      <th>Single Trip Travel Protect Platinum</th>\n",
       "      <td>5598.15</td>\n",
       "    </tr>\n",
       "    <tr>\n",
       "      <th>Single Trip Travel Protect Silver</th>\n",
       "      <td>5923.00</td>\n",
       "    </tr>\n",
       "    <tr>\n",
       "      <th>Spouse or Parents Comprehensive Plan</th>\n",
       "      <td>2322.00</td>\n",
       "    </tr>\n",
       "    <tr>\n",
       "      <th>Ticket Protector</th>\n",
       "      <td>6210.53</td>\n",
       "    </tr>\n",
       "    <tr>\n",
       "      <th>Travel Cruise Protect</th>\n",
       "      <td>12930.00</td>\n",
       "    </tr>\n",
       "    <tr>\n",
       "      <th>Value Plan</th>\n",
       "      <td>118597.00</td>\n",
       "    </tr>\n",
       "  </tbody>\n",
       "</table>\n",
       "</div>"
      ],
      "text/plain": [
       "                                      Net Sales\n",
       "Product Name                                   \n",
       "1 way Comprehensive Plan               78320.00\n",
       "2 way Comprehensive Plan              540984.00\n",
       "24 Protect                              4048.45\n",
       "Annual Gold Plan                      144824.70\n",
       "Annual Silver Plan                    720709.98\n",
       "Annual Travel Protect Gold             49757.30\n",
       "Annual Travel Protect Platinum         24943.40\n",
       "Annual Travel Protect Silver           26372.45\n",
       "Basic Plan                            123388.00\n",
       "Bronze Plan                           212859.60\n",
       "Cancellation Plan                     404730.00\n",
       "Child Comprehensive Plan                 592.00\n",
       "Comprehensive Plan                     10598.00\n",
       "Gold Plan                              41534.30\n",
       "Individual Comprehensive Plan           9215.00\n",
       "Premier Plan                           12437.00\n",
       "Rental Vehicle Excess Insurance       375457.50\n",
       "Silver Plan                           214854.95\n",
       "Single Trip Travel Protect Gold        11857.20\n",
       "Single Trip Travel Protect Platinum     5598.15\n",
       "Single Trip Travel Protect Silver       5923.00\n",
       "Spouse or Parents Comprehensive Plan    2322.00\n",
       "Ticket Protector                        6210.53\n",
       "Travel Cruise Protect                  12930.00\n",
       "Value Plan                            118597.00"
      ]
     },
     "execution_count": 27,
     "metadata": {},
     "output_type": "execute_result"
    }
   ],
   "source": [
    "# Finding Product wise Total Net Sales\n",
    "travel.pivot_table(index = ['Product Name'], values = ['Net Sales'], aggfunc = 'sum')"
   ]
  },
  {
   "cell_type": "code",
   "execution_count": 28,
   "metadata": {},
   "outputs": [
    {
     "data": {
      "text/html": [
       "<div>\n",
       "<style scoped>\n",
       "    .dataframe tbody tr th:only-of-type {\n",
       "        vertical-align: middle;\n",
       "    }\n",
       "\n",
       "    .dataframe tbody tr th {\n",
       "        vertical-align: top;\n",
       "    }\n",
       "\n",
       "    .dataframe thead th {\n",
       "        text-align: right;\n",
       "    }\n",
       "</style>\n",
       "<table border=\"1\" class=\"dataframe\">\n",
       "  <thead>\n",
       "    <tr style=\"text-align: right;\">\n",
       "      <th></th>\n",
       "      <th>Net Sales</th>\n",
       "    </tr>\n",
       "    <tr>\n",
       "      <th>Age Group</th>\n",
       "      <th></th>\n",
       "    </tr>\n",
       "  </thead>\n",
       "  <tbody>\n",
       "    <tr>\n",
       "      <th>Adult</th>\n",
       "      <td>2605502.69</td>\n",
       "    </tr>\n",
       "    <tr>\n",
       "      <th>Child</th>\n",
       "      <td>38540.10</td>\n",
       "    </tr>\n",
       "    <tr>\n",
       "      <th>Senior</th>\n",
       "      <td>515021.72</td>\n",
       "    </tr>\n",
       "  </tbody>\n",
       "</table>\n",
       "</div>"
      ],
      "text/plain": [
       "            Net Sales\n",
       "Age Group            \n",
       "Adult      2605502.69\n",
       "Child        38540.10\n",
       "Senior      515021.72"
      ]
     },
     "execution_count": 28,
     "metadata": {},
     "output_type": "execute_result"
    }
   ],
   "source": [
    "travel.pivot_table(index = ['Age Group'], values = ['Net Sales'], aggfunc = 'sum')"
   ]
  },
  {
   "cell_type": "code",
   "execution_count": 29,
   "metadata": {},
   "outputs": [
    {
     "data": {
      "text/html": [
       "<div>\n",
       "<style scoped>\n",
       "    .dataframe tbody tr th:only-of-type {\n",
       "        vertical-align: middle;\n",
       "    }\n",
       "\n",
       "    .dataframe tbody tr th {\n",
       "        vertical-align: top;\n",
       "    }\n",
       "\n",
       "    .dataframe thead th {\n",
       "        text-align: right;\n",
       "    }\n",
       "</style>\n",
       "<table border=\"1\" class=\"dataframe\">\n",
       "  <thead>\n",
       "    <tr style=\"text-align: right;\">\n",
       "      <th></th>\n",
       "      <th>Claim</th>\n",
       "    </tr>\n",
       "    <tr>\n",
       "      <th>Age Group</th>\n",
       "      <th></th>\n",
       "    </tr>\n",
       "  </thead>\n",
       "  <tbody>\n",
       "    <tr>\n",
       "      <th>Adult</th>\n",
       "      <td>52582</td>\n",
       "    </tr>\n",
       "    <tr>\n",
       "      <th>Child</th>\n",
       "      <td>828</td>\n",
       "    </tr>\n",
       "    <tr>\n",
       "      <th>Senior</th>\n",
       "      <td>8878</td>\n",
       "    </tr>\n",
       "  </tbody>\n",
       "</table>\n",
       "</div>"
      ],
      "text/plain": [
       "           Claim\n",
       "Age Group       \n",
       "Adult      52582\n",
       "Child        828\n",
       "Senior      8878"
      ]
     },
     "execution_count": 29,
     "metadata": {},
     "output_type": "execute_result"
    }
   ],
   "source": [
    "travel.pivot_table(index = ['Age Group'], values = ['Claim'], aggfunc = 'count')"
   ]
  },
  {
   "cell_type": "code",
   "execution_count": 30,
   "metadata": {},
   "outputs": [
    {
     "data": {
      "text/plain": [
       "Age Group  Claim\n",
       "Adult      0        42203\n",
       "           1        10379\n",
       "Child      0          605\n",
       "           1          223\n",
       "Senior     0         7022\n",
       "           1         1856\n",
       "Name: Claim, dtype: int64"
      ]
     },
     "execution_count": 30,
     "metadata": {},
     "output_type": "execute_result"
    }
   ],
   "source": [
    "travel.groupby(['Age Group'])['Claim'].value_counts()"
   ]
  },
  {
   "cell_type": "code",
   "execution_count": 31,
   "metadata": {},
   "outputs": [
    {
     "name": "stderr",
     "output_type": "stream",
     "text": [
      "C:\\Users\\sarora117\\Anaconda3\\lib\\site-packages\\seaborn\\_decorators.py:36: FutureWarning: Pass the following variable as a keyword arg: x. From version 0.12, the only valid positional argument will be `data`, and passing other arguments without an explicit keyword will result in an error or misinterpretation.\n",
      "  warnings.warn(\n"
     ]
    },
    {
     "data": {
      "text/plain": [
       "<seaborn.axisgrid.FacetGrid at 0x198e8946e20>"
      ]
     },
     "execution_count": 31,
     "metadata": {},
     "output_type": "execute_result"
    },
    {
     "data": {
      "text/plain": [
       "<Figure size 288x288 with 0 Axes>"
      ]
     },
     "metadata": {},
     "output_type": "display_data"
    },
    {
     "data": {
      "image/png": "[encoded data removed]",
      "text/plain": [
       "<Figure size 1080x360 with 3 Axes>"
      ]
     },
     "metadata": {
      "needs_background": "light"
     },
     "output_type": "display_data"
    }
   ],
   "source": [
    "fig = plt.figure(figsize = (4,4))\n",
    "sns.catplot('Claim', col = 'Age Group', data = travel, col_wrap =3, kind='count',sharey=False)"
   ]
  },
  {
   "cell_type": "code",
   "execution_count": 32,
   "metadata": {},
   "outputs": [
    {
     "name": "stdout",
     "output_type": "stream",
     "text": [
      "[0.42790515 0.05265724 0.20653907 0.         0.09133037 0.15590009\n",
      " 0.098678   0.1371376  0.15806716 0.230563   0.25347222 0.10053763\n",
      " 0.06189631 0.06793842 0.04663487 0.04491726 0.23217923 0.10895212\n",
      " 0.34146341 0.24795082 0.12285012 0.13328424 0.11316872 0.03647416\n",
      " 0.1754386  0.14736842 0.26865672 0.02086438 0.26190476 0.12222222\n",
      " 0.09883103 0.07801418 0.06666667 0.2804878  0.21276596 0.1097561\n",
      " 0.17142857 0.275      0.08955224 0.75       0.44444444]\n"
     ]
    }
   ],
   "source": [
    "# Converting all Destination to sensible numbers (Risk of default - inspired by WOE)\n",
    "travel['Destination_risk'] = travel.groupby('Destination')['Claim'].transform('mean')\n",
    "print(travel['Destination_risk'].unique())"
   ]
  },
  {
   "cell_type": "code",
   "execution_count": 33,
   "metadata": {},
   "outputs": [],
   "source": [
    "def Country_Categories(value):\n",
    "    if(value >= 0.3):\n",
    "        result = '(1) High Risk - More than 30% Claimed'\n",
    "    elif(value >= 0.2):\n",
    "        result = '(2) Medium Risk - More than 20% Claimed'\n",
    "    elif(value > 0):\n",
    "        result = '(3) Low Risk - More than 1% Claimed'\n",
    "    else:\n",
    "        result = '(4) No Risk Countries'\n",
    "    return result"
   ]
  },
  {
   "cell_type": "code",
   "execution_count": 34,
   "metadata": {},
   "outputs": [
    {
     "name": "stdout",
     "output_type": "stream",
     "text": [
      "['(1) High Risk - More than 30% Claimed'\n",
      " '(3) Low Risk - More than 1% Claimed'\n",
      " '(2) Medium Risk - More than 20% Claimed' '(4) No Risk Countries']\n"
     ]
    }
   ],
   "source": [
    "travel['Risk of Countries'] = travel['Destination_risk'].map(lambda x: Country_Categories(x))\n",
    "print(travel['Risk of Countries'].unique())"
   ]
  },
  {
   "cell_type": "code",
   "execution_count": 35,
   "metadata": {},
   "outputs": [
    {
     "data": {
      "text/html": [
       "<div>\n",
       "<style scoped>\n",
       "    .dataframe tbody tr th:only-of-type {\n",
       "        vertical-align: middle;\n",
       "    }\n",
       "\n",
       "    .dataframe tbody tr th {\n",
       "        vertical-align: top;\n",
       "    }\n",
       "\n",
       "    .dataframe thead th {\n",
       "        text-align: right;\n",
       "    }\n",
       "</style>\n",
       "<table border=\"1\" class=\"dataframe\">\n",
       "  <thead>\n",
       "    <tr style=\"text-align: right;\">\n",
       "      <th></th>\n",
       "      <th>ID</th>\n",
       "      <th>Age</th>\n",
       "      <th>Agency</th>\n",
       "      <th>Agency Type</th>\n",
       "      <th>Commision (in value)</th>\n",
       "      <th>Destination</th>\n",
       "      <th>Distribution Channel</th>\n",
       "      <th>Duration</th>\n",
       "      <th>Net Sales</th>\n",
       "      <th>Product Name</th>\n",
       "      <th>Claim</th>\n",
       "      <th>Age Group</th>\n",
       "      <th>Destination_risk</th>\n",
       "      <th>Risk of Countries</th>\n",
       "    </tr>\n",
       "  </thead>\n",
       "  <tbody>\n",
       "    <tr>\n",
       "      <th>0</th>\n",
       "      <td>45341</td>\n",
       "      <td>28.0</td>\n",
       "      <td>C2B</td>\n",
       "      <td>Airlines</td>\n",
       "      <td>28.13</td>\n",
       "      <td>SINGAPORE</td>\n",
       "      <td>Online</td>\n",
       "      <td>34</td>\n",
       "      <td>112.5</td>\n",
       "      <td>Silver Plan</td>\n",
       "      <td>1</td>\n",
       "      <td>Adult</td>\n",
       "      <td>0.427905</td>\n",
       "      <td>(1) High Risk - More than 30% Claimed</td>\n",
       "    </tr>\n",
       "    <tr>\n",
       "      <th>1</th>\n",
       "      <td>12958</td>\n",
       "      <td>37.0</td>\n",
       "      <td>JZI</td>\n",
       "      <td>Airlines</td>\n",
       "      <td>12.95</td>\n",
       "      <td>PHILIPPINES</td>\n",
       "      <td>Online</td>\n",
       "      <td>53</td>\n",
       "      <td>37.0</td>\n",
       "      <td>Basic Plan</td>\n",
       "      <td>0</td>\n",
       "      <td>Adult</td>\n",
       "      <td>0.052657</td>\n",
       "      <td>(3) Low Risk - More than 1% Claimed</td>\n",
       "    </tr>\n",
       "    <tr>\n",
       "      <th>2</th>\n",
       "      <td>18233</td>\n",
       "      <td>27.0</td>\n",
       "      <td>EPX</td>\n",
       "      <td>Travel Agency</td>\n",
       "      <td>0.00</td>\n",
       "      <td>UNITED STATES</td>\n",
       "      <td>Online</td>\n",
       "      <td>28</td>\n",
       "      <td>13.0</td>\n",
       "      <td>Cancellation Plan</td>\n",
       "      <td>0</td>\n",
       "      <td>Adult</td>\n",
       "      <td>0.206539</td>\n",
       "      <td>(2) Medium Risk - More than 20% Claimed</td>\n",
       "    </tr>\n",
       "    <tr>\n",
       "      <th>3</th>\n",
       "      <td>31742</td>\n",
       "      <td>36.0</td>\n",
       "      <td>EPX</td>\n",
       "      <td>Travel Agency</td>\n",
       "      <td>0.00</td>\n",
       "      <td>SAUDI ARABIA</td>\n",
       "      <td>Online</td>\n",
       "      <td>1</td>\n",
       "      <td>34.0</td>\n",
       "      <td>Cancellation Plan</td>\n",
       "      <td>0</td>\n",
       "      <td>Adult</td>\n",
       "      <td>0.000000</td>\n",
       "      <td>(4) No Risk Countries</td>\n",
       "    </tr>\n",
       "    <tr>\n",
       "      <th>4</th>\n",
       "      <td>14381</td>\n",
       "      <td>26.0</td>\n",
       "      <td>CWT</td>\n",
       "      <td>Travel Agency</td>\n",
       "      <td>23.76</td>\n",
       "      <td>THAILAND</td>\n",
       "      <td>Online</td>\n",
       "      <td>33</td>\n",
       "      <td>39.6</td>\n",
       "      <td>Rental Vehicle Excess Insurance</td>\n",
       "      <td>0</td>\n",
       "      <td>Adult</td>\n",
       "      <td>0.091330</td>\n",
       "      <td>(3) Low Risk - More than 1% Claimed</td>\n",
       "    </tr>\n",
       "  </tbody>\n",
       "</table>\n",
       "</div>"
      ],
      "text/plain": [
       "      ID   Age Agency    Agency Type  Commision (in value)    Destination  \\\n",
       "0  45341  28.0    C2B       Airlines                 28.13      SINGAPORE   \n",
       "1  12958  37.0    JZI       Airlines                 12.95    PHILIPPINES   \n",
       "2  18233  27.0    EPX  Travel Agency                  0.00  UNITED STATES   \n",
       "3  31742  36.0    EPX  Travel Agency                  0.00   SAUDI ARABIA   \n",
       "4  14381  26.0    CWT  Travel Agency                 23.76       THAILAND   \n",
       "\n",
       "  Distribution Channel  Duration  Net Sales                     Product Name  \\\n",
       "0               Online        34      112.5                      Silver Plan   \n",
       "1               Online        53       37.0                       Basic Plan   \n",
       "2               Online        28       13.0                Cancellation Plan   \n",
       "3               Online         1       34.0                Cancellation Plan   \n",
       "4               Online        33       39.6  Rental Vehicle Excess Insurance   \n",
       "\n",
       "   Claim Age Group  Destination_risk                        Risk of Countries  \n",
       "0      1     Adult          0.427905    (1) High Risk - More than 30% Claimed  \n",
       "1      0     Adult          0.052657      (3) Low Risk - More than 1% Claimed  \n",
       "2      0     Adult          0.206539  (2) Medium Risk - More than 20% Claimed  \n",
       "3      0     Adult          0.000000                    (4) No Risk Countries  \n",
       "4      0     Adult          0.091330      (3) Low Risk - More than 1% Claimed  "
      ]
     },
     "execution_count": 35,
     "metadata": {},
     "output_type": "execute_result"
    }
   ],
   "source": [
    "travel.head(5)"
   ]
  },
  {
   "cell_type": "markdown",
   "metadata": {},
   "source": [
    "# 5. Feature Engineering"
   ]
  },
  {
   "cell_type": "code",
   "execution_count": 36,
   "metadata": {},
   "outputs": [],
   "source": [
    "def feature_processing(df):\n",
    "    # Converting all categorical columns into numeric using frequency encoding and one-hot encoding\n",
    "    fe = df.groupby('Destination').size()/len(df)\n",
    "    df.loc[:,'Dest_fe'] = df['Destination'].map(fe)\n",
    "    \n",
    "    fe_1 = df.groupby('Agency').size()/len(df)\n",
    "    df.loc[:,'Agency_fe'] = df['Agency'].map(fe_1)\n",
    "    \n",
    "    fe_2 = df.groupby('Product Name').size()/len(df)    \n",
    "    df.loc[:,'Product Name_fe'] = df['Product Name'].map(fe_2)\n",
    "    \n",
    "    df.drop(columns='Agency',axis=1,inplace=True)\n",
    "    df.drop(columns='Destination',axis=1,inplace=True)\n",
    "    df.drop(columns='Product Name',axis=1,inplace=True)\n",
    "    df.drop(columns='Age Group',axis=1,inplace=True)"
   ]
  },
  {
   "cell_type": "code",
   "execution_count": 37,
   "metadata": {},
   "outputs": [],
   "source": [
    "feature_processing(travel)"
   ]
  },
  {
   "cell_type": "code",
   "execution_count": 38,
   "metadata": {},
   "outputs": [
    {
     "data": {
      "text/html": [
       "<div>\n",
       "<style scoped>\n",
       "    .dataframe tbody tr th:only-of-type {\n",
       "        vertical-align: middle;\n",
       "    }\n",
       "\n",
       "    .dataframe tbody tr th {\n",
       "        vertical-align: top;\n",
       "    }\n",
       "\n",
       "    .dataframe thead th {\n",
       "        text-align: right;\n",
       "    }\n",
       "</style>\n",
       "<table border=\"1\" class=\"dataframe\">\n",
       "  <thead>\n",
       "    <tr style=\"text-align: right;\">\n",
       "      <th></th>\n",
       "      <th>ID</th>\n",
       "      <th>Age</th>\n",
       "      <th>Agency Type</th>\n",
       "      <th>Commision (in value)</th>\n",
       "      <th>Distribution Channel</th>\n",
       "      <th>Duration</th>\n",
       "      <th>Net Sales</th>\n",
       "      <th>Claim</th>\n",
       "      <th>Destination_risk</th>\n",
       "      <th>Risk of Countries</th>\n",
       "      <th>Dest_fe</th>\n",
       "      <th>Agency_fe</th>\n",
       "      <th>Product Name_fe</th>\n",
       "    </tr>\n",
       "  </thead>\n",
       "  <tbody>\n",
       "    <tr>\n",
       "      <th>0</th>\n",
       "      <td>45341</td>\n",
       "      <td>28.0</td>\n",
       "      <td>Airlines</td>\n",
       "      <td>28.13</td>\n",
       "      <td>Online</td>\n",
       "      <td>34</td>\n",
       "      <td>112.5</td>\n",
       "      <td>1</td>\n",
       "      <td>0.427905</td>\n",
       "      <td>(1) High Risk - More than 30% Claimed</td>\n",
       "      <td>0.285705</td>\n",
       "      <td>0.218469</td>\n",
       "      <td>0.058535</td>\n",
       "    </tr>\n",
       "    <tr>\n",
       "      <th>1</th>\n",
       "      <td>12958</td>\n",
       "      <td>37.0</td>\n",
       "      <td>Airlines</td>\n",
       "      <td>12.95</td>\n",
       "      <td>Online</td>\n",
       "      <td>53</td>\n",
       "      <td>37.0</td>\n",
       "      <td>0</td>\n",
       "      <td>0.052657</td>\n",
       "      <td>(3) Low Risk - More than 1% Claimed</td>\n",
       "      <td>0.032928</td>\n",
       "      <td>0.086951</td>\n",
       "      <td>0.074894</td>\n",
       "    </tr>\n",
       "    <tr>\n",
       "      <th>2</th>\n",
       "      <td>18233</td>\n",
       "      <td>27.0</td>\n",
       "      <td>Travel Agency</td>\n",
       "      <td>0.00</td>\n",
       "      <td>Online</td>\n",
       "      <td>28</td>\n",
       "      <td>13.0</td>\n",
       "      <td>0</td>\n",
       "      <td>0.206539</td>\n",
       "      <td>(2) Medium Risk - More than 20% Claimed</td>\n",
       "      <td>0.040265</td>\n",
       "      <td>0.488296</td>\n",
       "      <td>0.246500</td>\n",
       "    </tr>\n",
       "    <tr>\n",
       "      <th>3</th>\n",
       "      <td>31742</td>\n",
       "      <td>36.0</td>\n",
       "      <td>Travel Agency</td>\n",
       "      <td>0.00</td>\n",
       "      <td>Online</td>\n",
       "      <td>1</td>\n",
       "      <td>34.0</td>\n",
       "      <td>0</td>\n",
       "      <td>0.000000</td>\n",
       "      <td>(4) No Risk Countries</td>\n",
       "      <td>0.000819</td>\n",
       "      <td>0.488296</td>\n",
       "      <td>0.246500</td>\n",
       "    </tr>\n",
       "    <tr>\n",
       "      <th>4</th>\n",
       "      <td>14381</td>\n",
       "      <td>26.0</td>\n",
       "      <td>Travel Agency</td>\n",
       "      <td>23.76</td>\n",
       "      <td>Online</td>\n",
       "      <td>33</td>\n",
       "      <td>39.6</td>\n",
       "      <td>0</td>\n",
       "      <td>0.091330</td>\n",
       "      <td>(3) Low Risk - More than 1% Claimed</td>\n",
       "      <td>0.083146</td>\n",
       "      <td>0.127729</td>\n",
       "      <td>0.127729</td>\n",
       "    </tr>\n",
       "  </tbody>\n",
       "</table>\n",
       "</div>"
      ],
      "text/plain": [
       "      ID   Age    Agency Type  Commision (in value) Distribution Channel  \\\n",
       "0  45341  28.0       Airlines                 28.13               Online   \n",
       "1  12958  37.0       Airlines                 12.95               Online   \n",
       "2  18233  27.0  Travel Agency                  0.00               Online   \n",
       "3  31742  36.0  Travel Agency                  0.00               Online   \n",
       "4  14381  26.0  Travel Agency                 23.76               Online   \n",
       "\n",
       "   Duration  Net Sales  Claim  Destination_risk  \\\n",
       "0        34      112.5      1          0.427905   \n",
       "1        53       37.0      0          0.052657   \n",
       "2        28       13.0      0          0.206539   \n",
       "3         1       34.0      0          0.000000   \n",
       "4        33       39.6      0          0.091330   \n",
       "\n",
       "                         Risk of Countries   Dest_fe  Agency_fe  \\\n",
       "0    (1) High Risk - More than 30% Claimed  0.285705   0.218469   \n",
       "1      (3) Low Risk - More than 1% Claimed  0.032928   0.086951   \n",
       "2  (2) Medium Risk - More than 20% Claimed  0.040265   0.488296   \n",
       "3                    (4) No Risk Countries  0.000819   0.488296   \n",
       "4      (3) Low Risk - More than 1% Claimed  0.083146   0.127729   \n",
       "\n",
       "   Product Name_fe  \n",
       "0         0.058535  \n",
       "1         0.074894  \n",
       "2         0.246500  \n",
       "3         0.246500  \n",
       "4         0.127729  "
      ]
     },
     "execution_count": 38,
     "metadata": {},
     "output_type": "execute_result"
    }
   ],
   "source": [
    "travel.head()"
   ]
  },
  {
   "cell_type": "code",
   "execution_count": 39,
   "metadata": {},
   "outputs": [],
   "source": [
    "travel.drop(columns=['Risk of Countries', 'Destination_risk'],axis=1,inplace=True)"
   ]
  },
  {
   "cell_type": "code",
   "execution_count": 40,
   "metadata": {},
   "outputs": [],
   "source": [
    "travel = pd.get_dummies(travel, columns=['Agency Type','Distribution Channel'], drop_first=True)"
   ]
  },
  {
   "cell_type": "code",
   "execution_count": 41,
   "metadata": {},
   "outputs": [
    {
     "data": {
      "text/html": [
       "<div>\n",
       "<style scoped>\n",
       "    .dataframe tbody tr th:only-of-type {\n",
       "        vertical-align: middle;\n",
       "    }\n",
       "\n",
       "    .dataframe tbody tr th {\n",
       "        vertical-align: top;\n",
       "    }\n",
       "\n",
       "    .dataframe thead th {\n",
       "        text-align: right;\n",
       "    }\n",
       "</style>\n",
       "<table border=\"1\" class=\"dataframe\">\n",
       "  <thead>\n",
       "    <tr style=\"text-align: right;\">\n",
       "      <th></th>\n",
       "      <th>ID</th>\n",
       "      <th>Age</th>\n",
       "      <th>Commision (in value)</th>\n",
       "      <th>Duration</th>\n",
       "      <th>Net Sales</th>\n",
       "      <th>Claim</th>\n",
       "      <th>Dest_fe</th>\n",
       "      <th>Agency_fe</th>\n",
       "      <th>Product Name_fe</th>\n",
       "      <th>Agency Type_Travel Agency</th>\n",
       "      <th>Distribution Channel_Online</th>\n",
       "    </tr>\n",
       "  </thead>\n",
       "  <tbody>\n",
       "    <tr>\n",
       "      <th>0</th>\n",
       "      <td>45341</td>\n",
       "      <td>28.0</td>\n",
       "      <td>28.13</td>\n",
       "      <td>34</td>\n",
       "      <td>112.5</td>\n",
       "      <td>1</td>\n",
       "      <td>0.285705</td>\n",
       "      <td>0.218469</td>\n",
       "      <td>0.058535</td>\n",
       "      <td>0</td>\n",
       "      <td>1</td>\n",
       "    </tr>\n",
       "    <tr>\n",
       "      <th>1</th>\n",
       "      <td>12958</td>\n",
       "      <td>37.0</td>\n",
       "      <td>12.95</td>\n",
       "      <td>53</td>\n",
       "      <td>37.0</td>\n",
       "      <td>0</td>\n",
       "      <td>0.032928</td>\n",
       "      <td>0.086951</td>\n",
       "      <td>0.074894</td>\n",
       "      <td>0</td>\n",
       "      <td>1</td>\n",
       "    </tr>\n",
       "    <tr>\n",
       "      <th>2</th>\n",
       "      <td>18233</td>\n",
       "      <td>27.0</td>\n",
       "      <td>0.00</td>\n",
       "      <td>28</td>\n",
       "      <td>13.0</td>\n",
       "      <td>0</td>\n",
       "      <td>0.040265</td>\n",
       "      <td>0.488296</td>\n",
       "      <td>0.246500</td>\n",
       "      <td>1</td>\n",
       "      <td>1</td>\n",
       "    </tr>\n",
       "    <tr>\n",
       "      <th>3</th>\n",
       "      <td>31742</td>\n",
       "      <td>36.0</td>\n",
       "      <td>0.00</td>\n",
       "      <td>1</td>\n",
       "      <td>34.0</td>\n",
       "      <td>0</td>\n",
       "      <td>0.000819</td>\n",
       "      <td>0.488296</td>\n",
       "      <td>0.246500</td>\n",
       "      <td>1</td>\n",
       "      <td>1</td>\n",
       "    </tr>\n",
       "    <tr>\n",
       "      <th>4</th>\n",
       "      <td>14381</td>\n",
       "      <td>26.0</td>\n",
       "      <td>23.76</td>\n",
       "      <td>33</td>\n",
       "      <td>39.6</td>\n",
       "      <td>0</td>\n",
       "      <td>0.083146</td>\n",
       "      <td>0.127729</td>\n",
       "      <td>0.127729</td>\n",
       "      <td>1</td>\n",
       "      <td>1</td>\n",
       "    </tr>\n",
       "  </tbody>\n",
       "</table>\n",
       "</div>"
      ],
      "text/plain": [
       "      ID   Age  Commision (in value)  Duration  Net Sales  Claim   Dest_fe  \\\n",
       "0  45341  28.0                 28.13        34      112.5      1  0.285705   \n",
       "1  12958  37.0                 12.95        53       37.0      0  0.032928   \n",
       "2  18233  27.0                  0.00        28       13.0      0  0.040265   \n",
       "3  31742  36.0                  0.00         1       34.0      0  0.000819   \n",
       "4  14381  26.0                 23.76        33       39.6      0  0.083146   \n",
       "\n",
       "   Agency_fe  Product Name_fe  Agency Type_Travel Agency  \\\n",
       "0   0.218469         0.058535                          0   \n",
       "1   0.086951         0.074894                          0   \n",
       "2   0.488296         0.246500                          1   \n",
       "3   0.488296         0.246500                          1   \n",
       "4   0.127729         0.127729                          1   \n",
       "\n",
       "   Distribution Channel_Online  \n",
       "0                            1  \n",
       "1                            1  \n",
       "2                            1  \n",
       "3                            1  \n",
       "4                            1  "
      ]
     },
     "execution_count": 41,
     "metadata": {},
     "output_type": "execute_result"
    }
   ],
   "source": [
    "travel.head(5)"
   ]
  },
  {
   "cell_type": "markdown",
   "metadata": {},
   "source": [
    "# 6. Preparing and training a baseline model."
   ]
  },
  {
   "cell_type": "code",
   "execution_count": 42,
   "metadata": {},
   "outputs": [],
   "source": [
    "X = travel.drop('Claim', axis = 1)\n",
    "Y = travel['Claim']"
   ]
  },
  {
   "cell_type": "code",
   "execution_count": 43,
   "metadata": {},
   "outputs": [],
   "source": [
    "# Multi colinearity detection\n",
    "def plot_heatmap(df, fig_size=(10, 7)):\n",
    "    fig = plt.figure(figsize=fig_size)\n",
    "    sns.heatmap(df.corr(), annot=True)\n",
    "    plt.title('Heatmap for detecting multicollinearity', fontsize=16, color='navy')\n",
    "    plt.show()"
   ]
  },
  {
   "cell_type": "code",
   "execution_count": 44,
   "metadata": {},
   "outputs": [
    {
     "data": {
      "image/png": "[encoded data removed]",
      "text/plain": [
       "<Figure size 720x504 with 2 Axes>"
      ]
     },
     "metadata": {
      "needs_background": "light"
     },
     "output_type": "display_data"
    }
   ],
   "source": [
    "plot_heatmap(X)"
   ]
  },
  {
   "cell_type": "markdown",
   "metadata": {},
   "source": [
    "- From the above heat-map we can see that there is not a high co-relation between any features and hence we can continue with all of the above features to train our model."
   ]
  },
  {
   "cell_type": "code",
   "execution_count": 45,
   "metadata": {},
   "outputs": [],
   "source": [
    "from sklearn.model_selection import train_test_split"
   ]
  },
  {
   "cell_type": "code",
   "execution_count": 46,
   "metadata": {},
   "outputs": [],
   "source": [
    "# Train-Test Split\n",
    "X_train, X_test, Y_train, Y_test = train_test_split(X,Y, train_size = 0.7, random_state = 7)"
   ]
  },
  {
   "cell_type": "markdown",
   "metadata": {},
   "source": [
    "# 7. Modeling"
   ]
  },
  {
   "cell_type": "markdown",
   "metadata": {},
   "source": [
    "### Model 1: Logistic Regression"
   ]
  },
  {
   "cell_type": "code",
   "execution_count": 47,
   "metadata": {},
   "outputs": [],
   "source": [
    "from sklearn.metrics import roc_auc_score, classification_report, confusion_matrix, accuracy_score\n",
    "from sklearn.linear_model import LogisticRegression"
   ]
  },
  {
   "cell_type": "code",
   "execution_count": 48,
   "metadata": {},
   "outputs": [],
   "source": [
    "logr = LogisticRegression()\n",
    "logr.fit(X_train,Y_train)\n",
    "Y_pred = logr.predict(X_test)"
   ]
  },
  {
   "cell_type": "code",
   "execution_count": 49,
   "metadata": {},
   "outputs": [
    {
     "name": "stdout",
     "output_type": "stream",
     "text": [
      "0.8174131749344464\n"
     ]
    }
   ],
   "source": [
    "print(accuracy_score(Y_test, Y_pred))"
   ]
  },
  {
   "cell_type": "code",
   "execution_count": 50,
   "metadata": {},
   "outputs": [
    {
     "name": "stdout",
     "output_type": "stream",
     "text": [
      "              precision    recall  f1-score   support\n",
      "\n",
      "           0       0.83      0.97      0.90     14972\n",
      "           1       0.63      0.19      0.29      3715\n",
      "\n",
      "    accuracy                           0.82     18687\n",
      "   macro avg       0.73      0.58      0.59     18687\n",
      "weighted avg       0.79      0.82      0.78     18687\n",
      "\n"
     ]
    }
   ],
   "source": [
    "print(classification_report(Y_test, Y_pred))"
   ]
  },
  {
   "cell_type": "code",
   "execution_count": 51,
   "metadata": {},
   "outputs": [
    {
     "name": "stdout",
     "output_type": "stream",
     "text": [
      "0.5822700894518579\n"
     ]
    }
   ],
   "source": [
    "print(roc_auc_score(Y_test,Y_pred))"
   ]
  },
  {
   "cell_type": "code",
   "execution_count": 52,
   "metadata": {},
   "outputs": [
    {
     "name": "stdout",
     "output_type": "stream",
     "text": [
      "[[14562   410]\n",
      " [ 3002   713]]\n"
     ]
    }
   ],
   "source": [
    "print(confusion_matrix(Y_test,Y_pred))"
   ]
  },
  {
   "cell_type": "markdown",
   "metadata": {},
   "source": [
    "### Model 2: Random Forest"
   ]
  },
  {
   "cell_type": "code",
   "execution_count": 53,
   "metadata": {},
   "outputs": [],
   "source": [
    "from sklearn.ensemble import RandomForestClassifier"
   ]
  },
  {
   "cell_type": "code",
   "execution_count": 54,
   "metadata": {},
   "outputs": [],
   "source": [
    "rf = RandomForestClassifier()\n",
    "rf.fit(X_train, Y_train)\n",
    "Y_pred_rf = rf.predict(X_test)"
   ]
  },
  {
   "cell_type": "code",
   "execution_count": 55,
   "metadata": {},
   "outputs": [
    {
     "name": "stdout",
     "output_type": "stream",
     "text": [
      "0.9946486862524749\n"
     ]
    }
   ],
   "source": [
    "print(accuracy_score(Y_test, Y_pred_rf))"
   ]
  },
  {
   "cell_type": "code",
   "execution_count": 56,
   "metadata": {},
   "outputs": [
    {
     "name": "stdout",
     "output_type": "stream",
     "text": [
      "              precision    recall  f1-score   support\n",
      "\n",
      "           0       1.00      0.99      1.00     14972\n",
      "           1       0.97      1.00      0.99      3715\n",
      "\n",
      "    accuracy                           0.99     18687\n",
      "   macro avg       0.99      1.00      0.99     18687\n",
      "weighted avg       0.99      0.99      0.99     18687\n",
      "\n"
     ]
    }
   ],
   "source": [
    "print(classification_report(Y_test, Y_pred_rf))"
   ]
  },
  {
   "cell_type": "code",
   "execution_count": 57,
   "metadata": {},
   "outputs": [
    {
     "name": "stdout",
     "output_type": "stream",
     "text": [
      "0.9966604328079082\n"
     ]
    }
   ],
   "source": [
    "print(roc_auc_score(Y_test,Y_pred_rf))"
   ]
  },
  {
   "cell_type": "code",
   "execution_count": 58,
   "metadata": {},
   "outputs": [
    {
     "name": "stdout",
     "output_type": "stream",
     "text": [
      "[[14872   100]\n",
      " [    0  3715]]\n"
     ]
    }
   ],
   "source": [
    "print(confusion_matrix(Y_test,Y_pred_rf))"
   ]
  },
  {
   "cell_type": "markdown",
   "metadata": {},
   "source": [
    "### Model 3: Applying KNN Classifier"
   ]
  },
  {
   "cell_type": "code",
   "execution_count": 59,
   "metadata": {},
   "outputs": [],
   "source": [
    "from sklearn.neighbors import KNeighborsClassifier"
   ]
  },
  {
   "cell_type": "code",
   "execution_count": 60,
   "metadata": {},
   "outputs": [],
   "source": [
    "knn = KNeighborsClassifier(n_neighbors=3)\n",
    "knn.fit(X_train,Y_train)\n",
    "Y_pred_knn = knn.predict(X_test)"
   ]
  },
  {
   "cell_type": "code",
   "execution_count": 61,
   "metadata": {},
   "outputs": [
    {
     "name": "stdout",
     "output_type": "stream",
     "text": [
      "0.9618451329801466\n"
     ]
    }
   ],
   "source": [
    "print(accuracy_score(Y_test, Y_pred_knn))"
   ]
  },
  {
   "cell_type": "code",
   "execution_count": 62,
   "metadata": {},
   "outputs": [
    {
     "name": "stdout",
     "output_type": "stream",
     "text": [
      "              precision    recall  f1-score   support\n",
      "\n",
      "           0       1.00      0.95      0.98     14972\n",
      "           1       0.84      1.00      0.91      3715\n",
      "\n",
      "    accuracy                           0.96     18687\n",
      "   macro avg       0.92      0.98      0.94     18687\n",
      "weighted avg       0.97      0.96      0.96     18687\n",
      "\n"
     ]
    }
   ],
   "source": [
    "print(classification_report(Y_test, Y_pred_knn))"
   ]
  },
  {
   "cell_type": "code",
   "execution_count": 63,
   "metadata": {},
   "outputs": [
    {
     "name": "stdout",
     "output_type": "stream",
     "text": [
      "0.9755817229397972\n"
     ]
    }
   ],
   "source": [
    "print(roc_auc_score(Y_test,Y_pred_knn))"
   ]
  },
  {
   "cell_type": "code",
   "execution_count": 64,
   "metadata": {},
   "outputs": [
    {
     "name": "stdout",
     "output_type": "stream",
     "text": [
      "[[14265   707]\n",
      " [    6  3709]]\n"
     ]
    }
   ],
   "source": [
    "print(confusion_matrix(Y_test,Y_pred_knn))"
   ]
  },
  {
   "cell_type": "markdown",
   "metadata": {},
   "source": [
    "### Model 4: Applying SVM"
   ]
  },
  {
   "cell_type": "code",
   "execution_count": 65,
   "metadata": {},
   "outputs": [],
   "source": [
    "from sklearn.svm import SVC"
   ]
  },
  {
   "cell_type": "code",
   "execution_count": 66,
   "metadata": {},
   "outputs": [],
   "source": [
    "clf = SVC(kernel='linear')\n",
    "clf.fit(X_train,Y_train)\n",
    "Y_pred_svm = clf.predict(X_test)"
   ]
  },
  {
   "cell_type": "code",
   "execution_count": 67,
   "metadata": {},
   "outputs": [
    {
     "name": "stdout",
     "output_type": "stream",
     "text": [
      "0.9618451329801466\n"
     ]
    }
   ],
   "source": [
    "print(accuracy_score(Y_test, Y_pred_knn))"
   ]
  },
  {
   "cell_type": "code",
   "execution_count": 68,
   "metadata": {},
   "outputs": [
    {
     "name": "stdout",
     "output_type": "stream",
     "text": [
      "              precision    recall  f1-score   support\n",
      "\n",
      "           0       1.00      0.95      0.98     14972\n",
      "           1       0.84      1.00      0.91      3715\n",
      "\n",
      "    accuracy                           0.96     18687\n",
      "   macro avg       0.92      0.98      0.94     18687\n",
      "weighted avg       0.97      0.96      0.96     18687\n",
      "\n"
     ]
    }
   ],
   "source": [
    "print(classification_report(Y_test, Y_pred_knn))"
   ]
  },
  {
   "cell_type": "code",
   "execution_count": 69,
   "metadata": {},
   "outputs": [
    {
     "name": "stdout",
     "output_type": "stream",
     "text": [
      "0.9755817229397972\n"
     ]
    }
   ],
   "source": [
    "print(roc_auc_score(Y_test,Y_pred_knn))"
   ]
  },
  {
   "cell_type": "code",
   "execution_count": 70,
   "metadata": {},
   "outputs": [
    {
     "name": "stdout",
     "output_type": "stream",
     "text": [
      "[[14265   707]\n",
      " [    6  3709]]\n"
     ]
    }
   ],
   "source": [
    "print(confusion_matrix(Y_test,Y_pred_knn))"
   ]
  },
  {
   "cell_type": "markdown",
   "metadata": {},
   "source": [
    "### Model 5: Decision tree with hyperparameters optimized"
   ]
  },
  {
   "cell_type": "code",
   "execution_count": 71,
   "metadata": {},
   "outputs": [],
   "source": [
    "from sklearn.tree import DecisionTreeClassifier\n",
    "from sklearn.model_selection import GridSearchCV"
   ]
  },
  {
   "cell_type": "code",
   "execution_count": 72,
   "metadata": {},
   "outputs": [],
   "source": [
    "dtc = DecisionTreeClassifier(random_state=42)"
   ]
  },
  {
   "cell_type": "code",
   "execution_count": 73,
   "metadata": {},
   "outputs": [
    {
     "name": "stdout",
     "output_type": "stream",
     "text": [
      "{'criterion': 'gini', 'max_depth': 7, 'min_samples_split': 0.05}\n"
     ]
    }
   ],
   "source": [
    "params = {\"criterion\":[\"gini\", \"entropy\"], \n",
    "         \"max_depth\":np.arange(4,8,1), \n",
    "         \"min_samples_split\":np.arange(0.05, 0.08, 0.01)}\n",
    "dtc_cv = GridSearchCV(dtc, param_grid=params, cv = 10)\n",
    "dtc_cv.fit(X_train,Y_train)\n",
    "Y_pred_dt = dtc_cv.best_estimator_.predict(X_test)\n",
    "print (dtc_cv.best_params_)"
   ]
  },
  {
   "cell_type": "code",
   "execution_count": 74,
   "metadata": {},
   "outputs": [
    {
     "name": "stdout",
     "output_type": "stream",
     "text": [
      "0.8404773371862793\n"
     ]
    }
   ],
   "source": [
    "print(accuracy_score(Y_test, Y_pred_dt))"
   ]
  },
  {
   "cell_type": "code",
   "execution_count": 75,
   "metadata": {},
   "outputs": [
    {
     "name": "stdout",
     "output_type": "stream",
     "text": [
      "              precision    recall  f1-score   support\n",
      "\n",
      "           0       0.88      0.92      0.90     14972\n",
      "           1       0.62      0.50      0.55      3715\n",
      "\n",
      "    accuracy                           0.84     18687\n",
      "   macro avg       0.75      0.71      0.73     18687\n",
      "weighted avg       0.83      0.84      0.83     18687\n",
      "\n"
     ]
    }
   ],
   "source": [
    "print(classification_report(Y_test, Y_pred_dt))"
   ]
  },
  {
   "cell_type": "code",
   "execution_count": 76,
   "metadata": {},
   "outputs": [
    {
     "name": "stdout",
     "output_type": "stream",
     "text": [
      "0.7125305595118965\n"
     ]
    }
   ],
   "source": [
    "print(roc_auc_score(Y_test,Y_pred_dt))"
   ]
  },
  {
   "cell_type": "code",
   "execution_count": 77,
   "metadata": {},
   "outputs": [
    {
     "name": "stdout",
     "output_type": "stream",
     "text": [
      "[[13848  1124]\n",
      " [ 1857  1858]]\n"
     ]
    }
   ],
   "source": [
    "print(confusion_matrix(Y_test,Y_pred_dt))"
   ]
  },
  {
   "cell_type": "markdown",
   "metadata": {},
   "source": [
    "# Conclusion -\n",
    "\n",
    "- MODEL TO BE SELECT IS WITH THE HIGHEST PRECISION SCORE :- Random Forest\n",
    "- In the above project we used Machine Learning to predict whether a person would claim his/her travel insurance.\n",
    "- A fair amount of exploratory data analysis has also been done on the dataset which helped us gain various insights on the given data and helped us in feature engineering.\n",
    "- More emphasis on feature selection can be done further down the road but I stopped at the baseline as the results for precision and recall were pretty good. "
   ]
  },
  {
   "cell_type": "code",
   "execution_count": null,
   "metadata": {},
   "outputs": [],
   "source": []
  },
  {
   "cell_type": "code",
   "execution_count": null,
   "metadata": {},
   "outputs": [],
   "source": []
  }
 ],
 "metadata": {
  "kernelspec": {
   "display_name": "Python 3",
   "language": "python",
   "name": "python3"
  },
  "language_info": {
   "codemirror_mode": {
    "name": "ipython",
    "version": 3
   },
   "file_extension": ".py",
   "mimetype": "text/x-python",
   "name": "python",
   "nbconvert_exporter": "python",
   "pygments_lexer": "ipython3",
   "version": "3.8.5"
  }
 },
 "nbformat": 4,
 "nbformat_minor": 4
}
